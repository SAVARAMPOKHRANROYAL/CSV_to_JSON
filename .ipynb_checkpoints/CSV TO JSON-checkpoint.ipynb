{
 "cells": [
  {
   "cell_type": "code",
   "execution_count": 1,
   "id": "89f18dec",
   "metadata": {},
   "outputs": [
    {
     "name": "stdout",
     "output_type": "stream",
     "text": [
      "   Unnamed: 0                                          filepaths\n",
      "0           0  CONTAINER_ff13934a-69e3-4cd3-b15d-068e1a200b7c...\n",
      "1           1  CONTAINER_da0907d0-2bf0-45ac-834a-f596ddc428a1...\n",
      "2           2  CONTAINER_cd44f45c-8999-4c17-af3b-e64579acda0d...\n",
      "3           3  CONTAINER_68c09439-baa6-4573-9313-f690ff58a9c0...\n",
      "4           4  CONTAINER_2814d809-21c0-4cf1-9633-b95161c0336b...\n"
     ]
    }
   ],
   "source": [
    "import pandas as pd\n",
    "import csv\n",
    "import json\n",
    "\n",
    "\n",
    "data=pd.read_csv('source.csv')\n",
    "print(data.head(5))"
   ]
  },
  {
   "cell_type": "code",
   "execution_count": 2,
   "id": "b607ae76",
   "metadata": {},
   "outputs": [],
   "source": [
    "data = data.drop(columns=['Unnamed: 0'])"
   ]
  },
  {
   "cell_type": "code",
   "execution_count": 3,
   "id": "0134a461",
   "metadata": {},
   "outputs": [
    {
     "name": "stdout",
     "output_type": "stream",
     "text": [
      "                                           filepaths\n",
      "0  CONTAINER_ff13934a-69e3-4cd3-b15d-068e1a200b7c...\n",
      "1  CONTAINER_da0907d0-2bf0-45ac-834a-f596ddc428a1...\n",
      "2  CONTAINER_cd44f45c-8999-4c17-af3b-e64579acda0d...\n",
      "3  CONTAINER_68c09439-baa6-4573-9313-f690ff58a9c0...\n",
      "4  CONTAINER_2814d809-21c0-4cf1-9633-b95161c0336b...\n"
     ]
    }
   ],
   "source": [
    "print(data.head(5))"
   ]
  },
  {
   "cell_type": "code",
   "execution_count": 4,
   "id": "44993da5",
   "metadata": {},
   "outputs": [
    {
     "name": "stdout",
     "output_type": "stream",
     "text": [
      "CONTAINER_da0907d0-2bf0-45ac-834a-f596ddc428a1/GCP_5cc476b1-babc-412b-a50e-4c3ac3d79d27/ed5b88d8-c73e-42d9-9ee7-428f2f50ac4a/f12a4402d2354f64b3d1b001f831f4eb/6efc18b9b26243b7a3efb0ad287ca71e.png\n",
      "['CONTAINER_da0907d0-2bf0-45ac-834a-f596ddc428a1', 'GCP_5cc476b1-babc-412b-a50e-4c3ac3d79d27', 'ed5b88d8-c73e-42d9-9ee7-428f2f50ac4a', 'f12a4402d2354f64b3d1b001f831f4eb', '6efc18b9b26243b7a3efb0ad287ca71e.png']\n"
     ]
    }
   ],
   "source": [
    "l = data['filepaths'][1]\n",
    "print(l)\n",
    "l = l.split('/')\n",
    "print(l)"
   ]
  },
  {
   "cell_type": "code",
   "execution_count": 5,
   "id": "648d3497",
   "metadata": {},
   "outputs": [],
   "source": [
    "js=[]\n",
    "for row in data['filepaths']:\n",
    "    row = row.split('/')\n",
    "    k = row[4].split('.')\n",
    "    if '_' not in k[0]:\n",
    "        js.append({\"filepaths\":row[0],\n",
    "                \"container\":row[1],\n",
    "                \"person\":row[2],\n",
    "                \"visit\":row[3],\n",
    "                \"fileUUID\":row[4],\n",
    "                \"fileType\":\"image\"})\n",
    "    else:\n",
    "        js.append({\"filepaths\":row[0],\n",
    "                \"container\":row[1],\n",
    "                \"person\":row[2],\n",
    "                \"visit\":row[3],\n",
    "                \"fileUUID\":row[4],\n",
    "                \"fileType\":\"cine\"})"
   ]
  },
  {
   "cell_type": "code",
   "execution_count": 6,
   "id": "5e02779f",
   "metadata": {},
   "outputs": [
    {
     "name": "stdout",
     "output_type": "stream",
     "text": [
      "{'filepaths': 'CONTAINER_ff13934a-69e3-4cd3-b15d-068e1a200b7c', 'container': 'GCP_90633fa2-1e04-4db4-aae5-8761219c0122', 'person': 'f0442617-776e-4162-a871-5182daa6d21c', 'visit': '2e2342d63fab4904a113a67e8a972c97', 'fileUUID': '36ab5afe92ab47d29f22fa619d1b2972.png', 'fileType': 'image'}\n"
     ]
    }
   ],
   "source": [
    "print(js[0])"
   ]
  },
  {
   "cell_type": "code",
   "execution_count": 7,
   "id": "c78f1632",
   "metadata": {},
   "outputs": [],
   "source": [
    "json_data = json.dumps(js)"
   ]
  },
  {
   "cell_type": "code",
   "execution_count": 8,
   "id": "da6de483",
   "metadata": {},
   "outputs": [
    {
     "data": {
      "text/plain": [
       "29728310"
      ]
     },
     "execution_count": 8,
     "metadata": {},
     "output_type": "execute_result"
    }
   ],
   "source": [
    "json_file=open('resultant.json','w')\n",
    "json_file.write(json_data)"
   ]
  }
 ],
 "metadata": {
  "kernelspec": {
   "display_name": "Python 3 (ipykernel)",
   "language": "python",
   "name": "python3"
  },
  "language_info": {
   "codemirror_mode": {
    "name": "ipython",
    "version": 3
   },
   "file_extension": ".py",
   "mimetype": "text/x-python",
   "name": "python",
   "nbconvert_exporter": "python",
   "pygments_lexer": "ipython3",
   "version": "3.10.5"
  }
 },
 "nbformat": 4,
 "nbformat_minor": 5
}
